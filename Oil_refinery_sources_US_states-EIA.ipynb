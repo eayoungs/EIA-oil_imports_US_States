{
 "cells": [
  {
   "cell_type": "markdown",
   "metadata": {},
   "source": [
    "# Major Air Pollutant Types from the Oil Refining Process\n",
    "http://www.baaqmd.gov/research-and-data/air-quality-standards-and-attainment-status\n",
    "- Ozone (O3)\n",
    "- Carbon Monoxide (CO)\n",
    "- Hydrogen Sulfide (H2S)\n",
    "- Vinyl Chloride (C2H3Cl)\n",
    "\n",
    "- Particulate Matter (PM)\n",
    "- Nitrogen Oxides (NOx)\n",
    "  - Nitrogen Dioxide (NO2)\n",
    "- Sulfur Dioxide (SO2)\n",
    "- Methane (CH4)\n",
    "\n",
    "https://www.arb.ca.gov/app/emsinv/facinfo/facinfo.php\n",
    "\n",
    "https://www.eia.gov/petroleum/imports/browser/#/?sid=PET_IMPORTS.WORLD-US-ALL.M~PET_IMPORTS.WORLD-RP_1-ALL.M~PET_IMPORTS.WORLD-RP_2-ALL.M~PET_IMPORTS.WORLD-RP_3-ALL.M~PET_IMPORTS.WORLD-RP_4-ALL.M~PET_IMPORTS.WORLD-RP_5-ALL.M~PET_IMPORTS.WORLD-RP_6-ALL.M&vs=PET_IMPORTS.WORLD-US-ALL.A"
   ]
  },
  {
   "cell_type": "code",
   "execution_count": 1,
   "metadata": {},
   "outputs": [],
   "source": [
    "import pandas as pd\n",
    "import numpy as np\n",
    "import matplotlib.pyplot as plt\n",
    "from matplotlib.sankey import Sankey\n",
    "%matplotlib inline"
   ]
  },
  {
   "cell_type": "code",
   "execution_count": 2,
   "metadata": {},
   "outputs": [],
   "source": [
    "all_grades = pd.read_csv(\"data/Imports_of_all_grades_from_country_of_origin_to_CA.csv\",\n",
    "                        header=0, index_col=0);"
   ]
  },
  {
   "cell_type": "code",
   "execution_count": 3,
   "metadata": {},
   "outputs": [
    {
     "data": {
      "text/plain": [
       "array(['World', 'Algeria', 'Angola', 'Argentina', 'Australia',\n",
       "       'Azerbaijan', 'Belize', 'Bolivia', 'Brazil', 'Cameroon', 'Canada',\n",
       "       'Chad', 'Colombia', 'Congo (Brazzaville)', 'Congo (Kinshasa)',\n",
       "       'Ecuador', 'Equatorial Guinea', 'Indonesia', 'Iraq', 'Italy',\n",
       "       'Kuwait', 'Libya', 'Mauritania', 'Mexico', 'Netherlands', 'Nigeria',\n",
       "       'Oman', 'Peru', 'Russia', 'Saudi Arabia', 'Thailand',\n",
       "       'Trinidad and Tobago', 'United Arab Emirates', 'Venezuela'], dtype=object)"
      ]
     },
     "execution_count": 3,
     "metadata": {},
     "output_type": "execute_result"
    }
   ],
   "source": [
    "origins = all_grades.origin_var.unique()\n",
    "origins"
   ]
  },
  {
   "cell_type": "code",
   "execution_count": 4,
   "metadata": {},
   "outputs": [
    {
     "data": {
      "text/plain": [
       "array(['CHEVRON USA / RICHMOND / CA', 'CHEVRON USA INC / EL SEGUNDO / CA',\n",
       "       'DELTA TRADING LP - PALOMA / BAKERSFIELD / CA',\n",
       "       'KERN OIL & REFINING / BAKERSFIELD / CA',\n",
       "       'PARAMOUNT PETROLEUM CORP / PARAMOUNT / CA',\n",
       "       'PHILLIPS 66 / LOS ANGELES / CA',\n",
       "       'PHILLIPS 66 CO / SAN FRANCISCO / CA',\n",
       "       'SHELL OIL PRODUCTS US / MARTINEZ / CA',\n",
       "       'TESORO CORP / GOLDEN EAGLE / CA',\n",
       "       'TESORO CORP / WILMINGTON LOS ANGELES / CA',\n",
       "       'TESORO REFINING & MARKETING / CARSON / CA',\n",
       "       'TORRANCE REFINING CO LLC / TORRANCE / CA',\n",
       "       'UNKNOWN PROCESSOR-CA / UNKNOWN PROCESSOR-CA / CA',\n",
       "       'VALERO REFINING CO CALIFORNIA / BENICIA / CA',\n",
       "       'VALERO REFINING CO CALIFORNIA / WILMINGTON ASPHALT PLANT / CA',\n",
       "       'VALERO REFINING CO CALIFORNIA / WILMINGTON REFINERY / CA'], dtype=object)"
      ]
     },
     "execution_count": 4,
     "metadata": {},
     "output_type": "execute_result"
    }
   ],
   "source": [
    "destinations = all_grades.destination_var.unique()\n",
    "destinations"
   ]
  },
  {
   "cell_type": "code",
   "execution_count": 5,
   "metadata": {},
   "outputs": [],
   "source": [
    "bay_area_refinieries = ['CHEVRON USA / RICHMOND / CA',\n",
    "                        'PHILLIPS 66 CO / SAN FRANCISCO / CA',\n",
    "                        'VALERO REFINING CO CALIFORNIA / BENICIA / CA',\n",
    "                        'SHELL OIL PRODUCTS US / MARTINEZ / CA',\n",
    "                        'TESORO CORP / GOLDEN EAGLE / CA']"
   ]
  },
  {
   "cell_type": "code",
   "execution_count": 6,
   "metadata": {},
   "outputs": [],
   "source": [
    "Chevron_Richmond = all_grades[all_grades['destination_var'].str.contains(\"RICHMOND\")]\n",
    "Phillips_SanFrancisco = all_grades[all_grades['destination_var'].str.contains(\"SAN FRANCISCO\")]\n",
    "Valero_Benicia = all_grades[all_grades['destination_var'].str.contains(\"BENICIA\")]\n",
    "Shell_Martinez = all_grades[all_grades['destination_var'].str.contains(\"MARTINEZ\")]\n",
    "Tesoro_GoldenEagle = all_grades[all_grades['destination_var'].str.contains(\"GOLDEN EAGLE\")]"
   ]
  },
  {
   "cell_type": "code",
   "execution_count": 7,
   "metadata": {},
   "outputs": [],
   "source": [
    "Chevron_Richmond_2009 = Chevron_Richmond[Chevron_Richmond['years_var'] == 2009]\n",
    "Phillips_SanFrancisco_2009 = Phillips_SanFrancisco[Phillips_SanFrancisco['years_var'] == 2009]\n",
    "Valero_Benicia_2009 = Valero_Benicia[Valero_Benicia['years_var'] == 2009]\n",
    "Shell_Martinez_2009 = Shell_Martinez[Shell_Martinez['years_var'] == 2009]\n",
    "Tesoro_GoldenEagle_2009 = Tesoro_GoldenEagle[Tesoro_GoldenEagle['years_var'] == 2009]"
   ]
  },
  {
   "cell_type": "code",
   "execution_count": 8,
   "metadata": {},
   "outputs": [
    {
     "data": {
      "text/plain": [
       "[Bunch(patch=Poly((-0.25, 29516) ...), flows=[   378.      0.      0.    265.      0.      0.   8009.      0.      0.\n",
       "       0.      0.      0.  45561.   4819.], angles=[0, None, None, 0, None, None, 0, None, None, None, None, None, 0, 0], tips=[[   159.33983029  29327.        ]\n",
       "  [     0.              0.        ]\n",
       "  [     0.              0.        ]\n",
       "  [   111.68070113  29005.5       ]\n",
       "  [     0.              0.        ]\n",
       "  [     0.              0.        ]\n",
       "  [  3360.42447305  24868.5       ]\n",
       "  [     0.              0.        ]\n",
       "  [     0.              0.        ]\n",
       "  [     0.              0.        ]\n",
       "  [     0.              0.        ]\n",
       "  [     0.              0.        ]\n",
       "  [ 19115.10914803  -1916.5       ]\n",
       "  [  2021.56056132 -27106.5       ]], text=Text(0,0,''), texts=[<matplotlib.text.Text object at 0x1079dfc18>, <matplotlib.text.Text object at 0x1079ec080>, <matplotlib.text.Text object at 0x1079ec5c0>, <matplotlib.text.Text object at 0x1079dfbe0>, <matplotlib.text.Text object at 0x1079f5080>, <matplotlib.text.Text object at 0x1079f55c0>, <matplotlib.text.Text object at 0x1079ecb00>, <matplotlib.text.Text object at 0x1079fd080>, <matplotlib.text.Text object at 0x1079fd5c0>, <matplotlib.text.Text object at 0x1079fdb00>, <matplotlib.text.Text object at 0x107a05080>, <matplotlib.text.Text object at 0x107a055c0>, <matplotlib.text.Text object at 0x1079f5b00>, <matplotlib.text.Text object at 0x107a05b00>])]"
      ]
     },
     "execution_count": 8,
     "metadata": {},
     "output_type": "execute_result"
    },
    {
     "data": {
      "image/png": "[encoded data removed]",
      "text/plain": [
       "<matplotlib.figure.Figure at 0x103eb2ac8>"
      ]
     },
     "metadata": {},
     "output_type": "display_data"
    }
   ],
   "source": [
    "sankey = Sankey()\n",
    "sankey.add(flows=Chevron_Richmond_2009['dat_var'][1:],\n",
    "           orientations = [0]*14,\n",
    "           labels=list(Chevron_Richmond_2009['origin_var'][1:]))\n",
    "sankey.finish()"
   ]
  }
 ],
 "metadata": {
  "kernelspec": {
   "display_name": "Python 3",
   "language": "python",
   "name": "python3"
  },
  "language_info": {
   "codemirror_mode": {
    "name": "ipython",
    "version": 3
   },
   "file_extension": ".py",
   "mimetype": "text/x-python",
   "name": "python",
   "nbconvert_exporter": "python",
   "pygments_lexer": "ipython3",
   "version": "3.6.2"
  }
 },
 "nbformat": 4,
 "nbformat_minor": 2
}
